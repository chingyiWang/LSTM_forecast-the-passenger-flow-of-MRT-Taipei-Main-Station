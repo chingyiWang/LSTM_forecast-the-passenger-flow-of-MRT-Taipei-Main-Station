{
 "cells": [
  {
   "cell_type": "code",
   "execution_count": 54,
   "metadata": {},
   "outputs": [],
   "source": [
    "import pandas as pd\n",
    "import numpy as np\n",
    "import matplotlib.pyplot as plt\n",
    "\n",
    "MRT_8cluster_6_test = pd.read_csv('C:/Users/ching/Desktop/final project/data/MRT_Data_complete_0819/8cluster_6/8cluster_6_test.csv')\n"
   ]
  },
  {
   "cell_type": "code",
   "execution_count": 72,
   "metadata": {},
   "outputs": [
    {
     "data": {
      "text/html": [
       "<div>\n",
       "<style scoped>\n",
       "    .dataframe tbody tr th:only-of-type {\n",
       "        vertical-align: middle;\n",
       "    }\n",
       "\n",
       "    .dataframe tbody tr th {\n",
       "        vertical-align: top;\n",
       "    }\n",
       "\n",
       "    .dataframe thead th {\n",
       "        text-align: right;\n",
       "    }\n",
       "</style>\n",
       "<table border=\"1\" class=\"dataframe\">\n",
       "  <thead>\n",
       "    <tr style=\"text-align: right;\">\n",
       "      <th></th>\n",
       "      <th>Sum_people</th>\n",
       "      <th>StnPres</th>\n",
       "      <th>Temperature</th>\n",
       "      <th>RH</th>\n",
       "      <th>WS</th>\n",
       "      <th>WD</th>\n",
       "      <th>Holiday</th>\n",
       "    </tr>\n",
       "  </thead>\n",
       "  <tbody>\n",
       "    <tr>\n",
       "      <th>0</th>\n",
       "      <td>2511</td>\n",
       "      <td>1024.8</td>\n",
       "      <td>16.1</td>\n",
       "      <td>89.0</td>\n",
       "      <td>2.9</td>\n",
       "      <td>100</td>\n",
       "      <td>1</td>\n",
       "    </tr>\n",
       "    <tr>\n",
       "      <th>1</th>\n",
       "      <td>34</td>\n",
       "      <td>1024.7</td>\n",
       "      <td>15.9</td>\n",
       "      <td>90.0</td>\n",
       "      <td>2.5</td>\n",
       "      <td>100</td>\n",
       "      <td>1</td>\n",
       "    </tr>\n",
       "    <tr>\n",
       "      <th>2</th>\n",
       "      <td>0</td>\n",
       "      <td>1023.6</td>\n",
       "      <td>15.9</td>\n",
       "      <td>90.0</td>\n",
       "      <td>3.3</td>\n",
       "      <td>110</td>\n",
       "      <td>1</td>\n",
       "    </tr>\n",
       "    <tr>\n",
       "      <th>3</th>\n",
       "      <td>4935</td>\n",
       "      <td>1024.2</td>\n",
       "      <td>15.8</td>\n",
       "      <td>90.0</td>\n",
       "      <td>3.1</td>\n",
       "      <td>90</td>\n",
       "      <td>1</td>\n",
       "    </tr>\n",
       "    <tr>\n",
       "      <th>4</th>\n",
       "      <td>7053</td>\n",
       "      <td>1024.8</td>\n",
       "      <td>15.9</td>\n",
       "      <td>89.0</td>\n",
       "      <td>3.5</td>\n",
       "      <td>100</td>\n",
       "      <td>1</td>\n",
       "    </tr>\n",
       "    <tr>\n",
       "      <th>...</th>\n",
       "      <td>...</td>\n",
       "      <td>...</td>\n",
       "      <td>...</td>\n",
       "      <td>...</td>\n",
       "      <td>...</td>\n",
       "      <td>...</td>\n",
       "      <td>...</td>\n",
       "    </tr>\n",
       "    <tr>\n",
       "      <th>7660</th>\n",
       "      <td>32488</td>\n",
       "      <td>1026.6</td>\n",
       "      <td>14.0</td>\n",
       "      <td>88.0</td>\n",
       "      <td>3.0</td>\n",
       "      <td>110</td>\n",
       "      <td>0</td>\n",
       "    </tr>\n",
       "    <tr>\n",
       "      <th>7661</th>\n",
       "      <td>25018</td>\n",
       "      <td>1026.5</td>\n",
       "      <td>13.8</td>\n",
       "      <td>87.0</td>\n",
       "      <td>4.3</td>\n",
       "      <td>110</td>\n",
       "      <td>0</td>\n",
       "    </tr>\n",
       "    <tr>\n",
       "      <th>7662</th>\n",
       "      <td>25067</td>\n",
       "      <td>1026.3</td>\n",
       "      <td>14.2</td>\n",
       "      <td>82.0</td>\n",
       "      <td>4.1</td>\n",
       "      <td>110</td>\n",
       "      <td>0</td>\n",
       "    </tr>\n",
       "    <tr>\n",
       "      <th>7663</th>\n",
       "      <td>26629</td>\n",
       "      <td>1026.3</td>\n",
       "      <td>14.6</td>\n",
       "      <td>81.0</td>\n",
       "      <td>4.0</td>\n",
       "      <td>110</td>\n",
       "      <td>0</td>\n",
       "    </tr>\n",
       "    <tr>\n",
       "      <th>7664</th>\n",
       "      <td>15728</td>\n",
       "      <td>1025.9</td>\n",
       "      <td>14.6</td>\n",
       "      <td>82.0</td>\n",
       "      <td>3.7</td>\n",
       "      <td>100</td>\n",
       "      <td>0</td>\n",
       "    </tr>\n",
       "  </tbody>\n",
       "</table>\n",
       "<p>7665 rows × 7 columns</p>\n",
       "</div>"
      ],
      "text/plain": [
       "      Sum_people  StnPres  Temperature    RH   WS   WD  Holiday\n",
       "0           2511   1024.8         16.1  89.0  2.9  100        1\n",
       "1             34   1024.7         15.9  90.0  2.5  100        1\n",
       "2              0   1023.6         15.9  90.0  3.3  110        1\n",
       "3           4935   1024.2         15.8  90.0  3.1   90        1\n",
       "4           7053   1024.8         15.9  89.0  3.5  100        1\n",
       "...          ...      ...          ...   ...  ...  ...      ...\n",
       "7660       32488   1026.6         14.0  88.0  3.0  110        0\n",
       "7661       25018   1026.5         13.8  87.0  4.3  110        0\n",
       "7662       25067   1026.3         14.2  82.0  4.1  110        0\n",
       "7663       26629   1026.3         14.6  81.0  4.0  110        0\n",
       "7664       15728   1025.9         14.6  82.0  3.7  100        0\n",
       "\n",
       "[7665 rows x 7 columns]"
      ]
     },
     "execution_count": 72,
     "metadata": {},
     "output_type": "execute_result"
    }
   ],
   "source": [
    "#MRT_8cluster_6_test['Sum_people'] = MRT_8cluster_6_test['Get_In_Count'] + MRT_8cluster_6_test['Way_Out_Count']\n",
    "MRT_8cluster_6_test_0 = MRT_8cluster_6_test[['Sum_people','StnPres','Temperature','RH','WS','WD','Holiday']]\n",
    "\n",
    "MRT_8cluster_6_test_0"
   ]
  },
  {
   "cell_type": "code",
   "execution_count": 73,
   "metadata": {},
   "outputs": [
    {
     "name": "stdout",
     "output_type": "stream",
     "text": [
      "<class 'pandas.core.frame.DataFrame'>\n",
      "RangeIndex: 7665 entries, 0 to 7664\n",
      "Data columns (total 7 columns):\n",
      " #   Column       Non-Null Count  Dtype  \n",
      "---  ------       --------------  -----  \n",
      " 0   Sum_people   7665 non-null   int64  \n",
      " 1   StnPres      7665 non-null   float64\n",
      " 2   Temperature  7665 non-null   float64\n",
      " 3   RH           7623 non-null   float64\n",
      " 4   WS           7665 non-null   float64\n",
      " 5   WD           7665 non-null   int64  \n",
      " 6   Holiday      7665 non-null   int64  \n",
      "dtypes: float64(4), int64(3)\n",
      "memory usage: 419.3 KB\n"
     ]
    }
   ],
   "source": [
    "MRT_8cluster_6_test_0.info()"
   ]
  },
  {
   "cell_type": "code",
   "execution_count": 74,
   "metadata": {},
   "outputs": [],
   "source": [
    "import datetime\n",
    "from math import sqrt\n",
    "from sklearn.preprocessing import MinMaxScaler\n",
    "from sklearn.preprocessing import LabelEncoder\n",
    "from sklearn.metrics import mean_squared_error\n",
    "from keras.models import Sequential\n",
    "from keras.layers import Dense\n",
    "from keras.layers import LSTM\n",
    "from keras import models   \n",
    "np.random.seed(16)"
   ]
  },
  {
   "cell_type": "code",
   "execution_count": 75,
   "metadata": {},
   "outputs": [
    {
     "data": {
      "text/plain": [
       "array([[2.5110e+03, 1.0248e+03, 1.6100e+01, ..., 2.9000e+00, 1.0000e+02,\n",
       "        1.0000e+00],\n",
       "       [3.4000e+01, 1.0247e+03, 1.5900e+01, ..., 2.5000e+00, 1.0000e+02,\n",
       "        1.0000e+00],\n",
       "       [0.0000e+00, 1.0236e+03, 1.5900e+01, ..., 3.3000e+00, 1.1000e+02,\n",
       "        1.0000e+00],\n",
       "       ...,\n",
       "       [2.5067e+04, 1.0263e+03, 1.4200e+01, ..., 4.1000e+00, 1.1000e+02,\n",
       "        0.0000e+00],\n",
       "       [2.6629e+04, 1.0263e+03, 1.4600e+01, ..., 4.0000e+00, 1.1000e+02,\n",
       "        0.0000e+00],\n",
       "       [1.5728e+04, 1.0259e+03, 1.4600e+01, ..., 3.7000e+00, 1.0000e+02,\n",
       "        0.0000e+00]], dtype=float32)"
      ]
     },
     "execution_count": 75,
     "metadata": {},
     "output_type": "execute_result"
    }
   ],
   "source": [
    "#全部轉成float\n",
    "values = MRT_8cluster_6_test_0.values\n",
    "values = values.astype('float32')\n",
    "values"
   ]
  },
  {
   "cell_type": "code",
   "execution_count": 76,
   "metadata": {},
   "outputs": [
    {
     "data": {
      "text/plain": [
       "array([[5.6366168e-02, 9.3318939e-01, 1.5234378e-01, ..., 3.6250001e-01,\n",
       "        2.7777779e-01, 1.0000000e+00],\n",
       "       [7.6322170e-04, 9.3103218e-01, 1.4453128e-01, ..., 3.1250000e-01,\n",
       "        2.7777779e-01, 1.0000000e+00],\n",
       "       [0.0000000e+00, 9.0732574e-01, 1.4453128e-01, ..., 4.1249999e-01,\n",
       "        3.0555555e-01, 1.0000000e+00],\n",
       "       ...,\n",
       "       [5.6269640e-01, 9.6551704e-01, 7.8125030e-02, ..., 5.1249999e-01,\n",
       "        3.0555555e-01, 0.0000000e+00],\n",
       "       [5.9775972e-01, 9.6551704e-01, 9.3750030e-02, ..., 5.0000000e-01,\n",
       "        3.0555555e-01, 0.0000000e+00],\n",
       "       [3.5305738e-01, 9.5689583e-01, 9.3750030e-02, ..., 4.6250001e-01,\n",
       "        2.7777779e-01, 0.0000000e+00]], dtype=float32)"
      ]
     },
     "execution_count": 76,
     "metadata": {},
     "output_type": "execute_result"
    }
   ],
   "source": [
    "#正規化\n",
    "scaler = MinMaxScaler(feature_range=(0, 1))\n",
    "scaled = scaler.fit_transform(values)\n",
    "scaled"
   ]
  },
  {
   "cell_type": "code",
   "execution_count": 77,
   "metadata": {},
   "outputs": [],
   "source": [
    "\n",
    "def series_to_supervised(data, n_in=1, n_out=1, dropnan=True):\n",
    "    n_vars = 1 if type(data) is list else data.shape[1]\n",
    "    df = pd.DataFrame(data)\n",
    "    cols, names = list(), list()\n",
    "    # 輸入(t-n, ... t-1)\n",
    "    for i in range(n_in, 0, -1):\n",
    "        cols.append(df.shift(i))\n",
    "        names += [('var%d(t-%d)' % (j+1, i)) for j in range(n_vars)]\n",
    "    # 預測 (t, t+1, ... t+n)\n",
    "    for i in range(0, n_out):\n",
    "        cols.append(df.shift(-i))\n",
    "        if i == 0:\n",
    "            names += [('var%d(t)' % (j+1)) for j in range(n_vars)]\n",
    "        else:\n",
    "            names += [('var%d(t+%d)' % (j+1, i)) for j in range(n_vars)]\n",
    "    # concat起來\n",
    "    agg = pd.concat(cols, axis=1)\n",
    "    agg.columns = names\n",
    "    # 删除有空值的行\n",
    "    if dropnan:\n",
    "        agg.dropna(inplace=True)\n",
    "    return agg"
   ]
  },
  {
   "cell_type": "code",
   "execution_count": 78,
   "metadata": {},
   "outputs": [
    {
     "data": {
      "text/html": [
       "<div>\n",
       "<style scoped>\n",
       "    .dataframe tbody tr th:only-of-type {\n",
       "        vertical-align: middle;\n",
       "    }\n",
       "\n",
       "    .dataframe tbody tr th {\n",
       "        vertical-align: top;\n",
       "    }\n",
       "\n",
       "    .dataframe thead th {\n",
       "        text-align: right;\n",
       "    }\n",
       "</style>\n",
       "<table border=\"1\" class=\"dataframe\">\n",
       "  <thead>\n",
       "    <tr style=\"text-align: right;\">\n",
       "      <th></th>\n",
       "      <th>var1(t-21)</th>\n",
       "      <th>var2(t-21)</th>\n",
       "      <th>var3(t-21)</th>\n",
       "      <th>var4(t-21)</th>\n",
       "      <th>var5(t-21)</th>\n",
       "      <th>var6(t-21)</th>\n",
       "      <th>var7(t-21)</th>\n",
       "      <th>var1(t-20)</th>\n",
       "      <th>var2(t-20)</th>\n",
       "      <th>var3(t-20)</th>\n",
       "      <th>...</th>\n",
       "      <th>var5(t-1)</th>\n",
       "      <th>var6(t-1)</th>\n",
       "      <th>var7(t-1)</th>\n",
       "      <th>var1(t)</th>\n",
       "      <th>var2(t)</th>\n",
       "      <th>var3(t)</th>\n",
       "      <th>var4(t)</th>\n",
       "      <th>var5(t)</th>\n",
       "      <th>var6(t)</th>\n",
       "      <th>var7(t)</th>\n",
       "    </tr>\n",
       "  </thead>\n",
       "  <tbody>\n",
       "    <tr>\n",
       "      <th>21</th>\n",
       "      <td>0.056366</td>\n",
       "      <td>0.933189</td>\n",
       "      <td>0.152344</td>\n",
       "      <td>0.845070</td>\n",
       "      <td>0.3625</td>\n",
       "      <td>0.277778</td>\n",
       "      <td>1.0</td>\n",
       "      <td>0.000763</td>\n",
       "      <td>0.931032</td>\n",
       "      <td>0.144531</td>\n",
       "      <td>...</td>\n",
       "      <td>0.6250</td>\n",
       "      <td>0.222222</td>\n",
       "      <td>1.0</td>\n",
       "      <td>0.038341</td>\n",
       "      <td>0.915947</td>\n",
       "      <td>0.136719</td>\n",
       "      <td>0.845070</td>\n",
       "      <td>0.4125</td>\n",
       "      <td>0.250000</td>\n",
       "      <td>0.0</td>\n",
       "    </tr>\n",
       "    <tr>\n",
       "      <th>22</th>\n",
       "      <td>0.000763</td>\n",
       "      <td>0.931032</td>\n",
       "      <td>0.144531</td>\n",
       "      <td>0.859155</td>\n",
       "      <td>0.3125</td>\n",
       "      <td>0.277778</td>\n",
       "      <td>1.0</td>\n",
       "      <td>0.000000</td>\n",
       "      <td>0.907326</td>\n",
       "      <td>0.144531</td>\n",
       "      <td>...</td>\n",
       "      <td>0.4125</td>\n",
       "      <td>0.250000</td>\n",
       "      <td>0.0</td>\n",
       "      <td>0.000494</td>\n",
       "      <td>0.915947</td>\n",
       "      <td>0.136719</td>\n",
       "      <td>0.845070</td>\n",
       "      <td>0.5000</td>\n",
       "      <td>0.250000</td>\n",
       "      <td>0.0</td>\n",
       "    </tr>\n",
       "    <tr>\n",
       "      <th>23</th>\n",
       "      <td>0.000000</td>\n",
       "      <td>0.907326</td>\n",
       "      <td>0.144531</td>\n",
       "      <td>0.859155</td>\n",
       "      <td>0.4125</td>\n",
       "      <td>0.305556</td>\n",
       "      <td>1.0</td>\n",
       "      <td>0.110779</td>\n",
       "      <td>0.920256</td>\n",
       "      <td>0.140625</td>\n",
       "      <td>...</td>\n",
       "      <td>0.5000</td>\n",
       "      <td>0.250000</td>\n",
       "      <td>0.0</td>\n",
       "      <td>0.000180</td>\n",
       "      <td>0.898706</td>\n",
       "      <td>0.144531</td>\n",
       "      <td>0.845070</td>\n",
       "      <td>0.4250</td>\n",
       "      <td>0.305556</td>\n",
       "      <td>0.0</td>\n",
       "    </tr>\n",
       "    <tr>\n",
       "      <th>24</th>\n",
       "      <td>0.110779</td>\n",
       "      <td>0.920256</td>\n",
       "      <td>0.140625</td>\n",
       "      <td>0.859155</td>\n",
       "      <td>0.3875</td>\n",
       "      <td>0.250000</td>\n",
       "      <td>1.0</td>\n",
       "      <td>0.158324</td>\n",
       "      <td>0.933189</td>\n",
       "      <td>0.144531</td>\n",
       "      <td>...</td>\n",
       "      <td>0.4250</td>\n",
       "      <td>0.305556</td>\n",
       "      <td>0.0</td>\n",
       "      <td>0.114865</td>\n",
       "      <td>0.907326</td>\n",
       "      <td>0.148438</td>\n",
       "      <td>0.830986</td>\n",
       "      <td>0.5125</td>\n",
       "      <td>0.250000</td>\n",
       "      <td>0.0</td>\n",
       "    </tr>\n",
       "    <tr>\n",
       "      <th>25</th>\n",
       "      <td>0.158324</td>\n",
       "      <td>0.933189</td>\n",
       "      <td>0.144531</td>\n",
       "      <td>0.845070</td>\n",
       "      <td>0.4375</td>\n",
       "      <td>0.277778</td>\n",
       "      <td>1.0</td>\n",
       "      <td>0.203174</td>\n",
       "      <td>0.950430</td>\n",
       "      <td>0.156250</td>\n",
       "      <td>...</td>\n",
       "      <td>0.5125</td>\n",
       "      <td>0.250000</td>\n",
       "      <td>0.0</td>\n",
       "      <td>0.319835</td>\n",
       "      <td>0.922413</td>\n",
       "      <td>0.156250</td>\n",
       "      <td>0.845070</td>\n",
       "      <td>0.4250</td>\n",
       "      <td>0.277778</td>\n",
       "      <td>0.0</td>\n",
       "    </tr>\n",
       "  </tbody>\n",
       "</table>\n",
       "<p>5 rows × 154 columns</p>\n",
       "</div>"
      ],
      "text/plain": [
       "    var1(t-21)  var2(t-21)  var3(t-21)  var4(t-21)  var5(t-21)  var6(t-21)  \\\n",
       "21    0.056366    0.933189    0.152344    0.845070      0.3625    0.277778   \n",
       "22    0.000763    0.931032    0.144531    0.859155      0.3125    0.277778   \n",
       "23    0.000000    0.907326    0.144531    0.859155      0.4125    0.305556   \n",
       "24    0.110779    0.920256    0.140625    0.859155      0.3875    0.250000   \n",
       "25    0.158324    0.933189    0.144531    0.845070      0.4375    0.277778   \n",
       "\n",
       "    var7(t-21)  var1(t-20)  var2(t-20)  var3(t-20)  ...  var5(t-1)  var6(t-1)  \\\n",
       "21         1.0    0.000763    0.931032    0.144531  ...     0.6250   0.222222   \n",
       "22         1.0    0.000000    0.907326    0.144531  ...     0.4125   0.250000   \n",
       "23         1.0    0.110779    0.920256    0.140625  ...     0.5000   0.250000   \n",
       "24         1.0    0.158324    0.933189    0.144531  ...     0.4250   0.305556   \n",
       "25         1.0    0.203174    0.950430    0.156250  ...     0.5125   0.250000   \n",
       "\n",
       "    var7(t-1)   var1(t)   var2(t)   var3(t)   var4(t)  var5(t)   var6(t)  \\\n",
       "21        1.0  0.038341  0.915947  0.136719  0.845070   0.4125  0.250000   \n",
       "22        0.0  0.000494  0.915947  0.136719  0.845070   0.5000  0.250000   \n",
       "23        0.0  0.000180  0.898706  0.144531  0.845070   0.4250  0.305556   \n",
       "24        0.0  0.114865  0.907326  0.148438  0.830986   0.5125  0.250000   \n",
       "25        0.0  0.319835  0.922413  0.156250  0.845070   0.4250  0.277778   \n",
       "\n",
       "    var7(t)  \n",
       "21      0.0  \n",
       "22      0.0  \n",
       "23      0.0  \n",
       "24      0.0  \n",
       "25      0.0  \n",
       "\n",
       "[5 rows x 154 columns]"
      ]
     },
     "execution_count": 78,
     "metadata": {},
     "output_type": "execute_result"
    }
   ],
   "source": [
    "# 前x小時，預測下一個小時\n",
    "n_hours = 21\n",
    "n_features = 7\n",
    "\n",
    "reframed = series_to_supervised(scaled, n_hours, 1)\n",
    "reframed.head()\n",
    "#reframed.shape"
   ]
  },
  {
   "cell_type": "code",
   "execution_count": 79,
   "metadata": {},
   "outputs": [
    {
     "name": "stdout",
     "output_type": "stream",
     "text": [
      "(8, 154)\n",
      "(7573, 154)\n"
     ]
    }
   ],
   "source": [
    "# 分割為train及test\n",
    "values = reframed.values\n",
    "train_size = int(reframed.shape[0]*0.001) + 1\n",
    "test_size = int(reframed.shape[0]*0.999)\n",
    "train = values[:train_size, :]\n",
    "test = values[train_size:, :]\n",
    "print(train.shape)\n",
    "print(test.shape)"
   ]
  },
  {
   "cell_type": "code",
   "execution_count": 80,
   "metadata": {},
   "outputs": [
    {
     "name": "stdout",
     "output_type": "stream",
     "text": [
      "(8, 147) 8 (8,)\n",
      "(7573, 147) 7573 (7573,)\n"
     ]
    }
   ],
   "source": [
    "# var1~6是變數，var7是target\n",
    "n_obs = n_hours * n_features \n",
    "\n",
    "train_X, train_y = train[:, :n_obs], train[:, -n_features]\n",
    "print(train_X.shape, len(train_X), train_y.shape)\n",
    "\n",
    "test_X, test_y = test[:, :n_obs], test[:, -n_features]\n",
    "print(test_X.shape, len(test_X), test_y.shape)"
   ]
  },
  {
   "cell_type": "code",
   "execution_count": 81,
   "metadata": {},
   "outputs": [
    {
     "name": "stdout",
     "output_type": "stream",
     "text": [
      "(8, 21, 7) (8,)\n",
      "(7573, 21, 7) (7573,)\n"
     ]
    }
   ],
   "source": [
    "# 轉成3维狀態 [資料數, 時間步長 ,變量數]\n",
    "train_X = train_X.reshape((train_X.shape[0], n_hours, n_features))\n",
    "test_X = test_X.reshape((test_X.shape[0], n_hours, n_features))\n",
    "print(train_X.shape, train_y.shape)\n",
    "print(test_X.shape, test_y.shape)"
   ]
  },
  {
   "cell_type": "code",
   "execution_count": 82,
   "metadata": {},
   "outputs": [
    {
     "name": "stdout",
     "output_type": "stream",
     "text": [
      "Model: \"sequential_5\"\n",
      "_________________________________________________________________\n",
      "Layer (type)                 Output Shape              Param #   \n",
      "=================================================================\n",
      "lstm_5 (LSTM)                (None, 60)                16320     \n",
      "_________________________________________________________________\n",
      "dense_5 (Dense)              (None, 1)                 61        \n",
      "=================================================================\n",
      "Total params: 16,381\n",
      "Trainable params: 16,381\n",
      "Non-trainable params: 0\n",
      "_________________________________________________________________\n"
     ]
    }
   ],
   "source": [
    "#載入模型\n",
    "from keras import models   \n",
    "model = models.load_model('c86_modle_weights_4.h5')\n",
    "model.summary()"
   ]
  },
  {
   "cell_type": "code",
   "execution_count": 83,
   "metadata": {},
   "outputs": [
    {
     "data": {
      "text/plain": [
       "(7573, 147)"
      ]
     },
     "execution_count": 83,
     "metadata": {},
     "output_type": "execute_result"
    }
   ],
   "source": [
    "# 對test_X預測\n",
    "yhat = model.predict(test_X)\n",
    "test_X = test_X.reshape((test_X.shape[0], n_hours*n_features))\n",
    "\n",
    "yhat.shape\n",
    "test_X.shape"
   ]
  },
  {
   "cell_type": "code",
   "execution_count": 84,
   "metadata": {},
   "outputs": [
    {
     "data": {
      "text/plain": [
       "array([15333.944  , 15459.896  , 14234.449  , 12157.498  , 11797.641  ,\n",
       "       13587.245  , 19784.81   , 28864.838  , 21998.842  , 14574.464  ,\n",
       "       15761.576  , 13750.236  ,  4350.924  ,  1445.1185 ,  -840.3807 ,\n",
       "        -391.824  ,  3250.1055 , 10610.213  , 21057.13   , 16950.86   ,\n",
       "       15039.021  , 12900.99   , 13727.012  , 13560.183  , 11496.728  ,\n",
       "       11811.57   , 14712.826  , 20440.8    , 28157.236  , 20488.84   ,\n",
       "       14898.618  , 15155.106  , 14356.685  ,  4187.2046 ,  1104.1409 ,\n",
       "        -212.3767 ,  -250.56276,  2631.6895 ,  9384.12   , 19437.664  ,\n",
       "       16643.96   , 15125.387  , 13486.23   , 14469.386  , 14730.397  ,\n",
       "       13965.395  , 13960.7    , 17744.932  , 24603.475  , 33181.395  ,\n",
       "       24275.527  , 19576.055  , 18796.5    , 18137.008  ,  7465.1133 ,\n",
       "        1642.1425 ,  -993.37854, -1162.5623 ,  3034.7751 ,  7956.562  ,\n",
       "       12969.934  , 16049.346  , 16868.723  , 18252.158  , 20848.621  ,\n",
       "       21913.46   , 20565.049  , 17559.26   , 20961.076  , 26239.033  ,\n",
       "       26693.252  , 16572.643  , 15264.157  , 16520.688  , 11805.487  ,\n",
       "        6104.382  ,  1614.2632 ,  -933.65344,  -110.1517 ,  3044.785  ,\n",
       "        7748.7676 , 14822.676  , 12320.179  , 13542.537  , 15746.026  ,\n",
       "       18704.697  , 18479.656  , 19090.775  , 18757.092  , 19701.633  ,\n",
       "       24121.986  , 25582.852  , 17531.764  , 17723.332  , 19458.084  ,\n",
       "       11906.623  ,  4023.418  ,   735.10657,  -635.50073,   334.70395,\n",
       "        2769.7256 , 13810.665  , 21544.982  , 15185.339  , 16251.383  ,\n",
       "       12917.659  , 13250.113  , 12666.106  , 11099.561  , 11155.311  ,\n",
       "       13748.3955 , 19873.861  , 26268.98   , 18929.25   , 13336.109  ,\n",
       "       14314.895  , 12686.93   ,  3930.9595 ,  1552.4146 ,  -753.0982 ,\n",
       "        -546.32886,  2915.775  ,  9136.19   , 18488.238  , 16917.064  ,\n",
       "       15349.561  , 11964.569  , 13253.912  , 13075.591  , 11622.926  ,\n",
       "       11864.236  , 14287.828  , 20999.404  , 26157.834  , 19144.78   ,\n",
       "       13368.636  , 14041.842  , 13063.284  ,  3762.4297 ,  1367.1963 ,\n",
       "        -880.00824,  -193.20631,  2721.658  ,  9873.354  , 19916.053  ,\n",
       "       16937.4    , 14624.703  , 12380.657  , 13602.863  , 12859.65   ,\n",
       "       11430.59   , 11742.528  , 14872.554  , 20566.639  , 27538.309  ,\n",
       "       19541.059  , 14283.566  , 14959.439  , 14321.908  ,  4100.82   ,\n",
       "        1350.6882 ,  -741.3651 ,  -270.02014,  2809.9695 ,  9678.65   ,\n",
       "       19321.328  , 16266.218  , 14609.012  , 12386.068  , 13311.036  ,\n",
       "       13804.729  , 11981.46   , 12373.14   , 15216.338  , 21002.33   ,\n",
       "       28377.518  , 20504.72   , 14002.571  , 14931.728  , 15025.892  ,\n",
       "        4178.1665 ,  1462.7588 ,  -141.90381,  -509.89844,  2671.401  ,\n",
       "        8118.5737 , 17251.99   , 17227.904  , 14708.693  , 13273.257  ,\n",
       "       14720.532  , 16282.26   , 14984.464  , 14939.755  , 18501.791  ,\n",
       "       26580.969  , 33467.023  , 25080.094  , 19291.418  , 19455.232  ,\n",
       "       18803.953  ,  7176.8486 ,  2889.6409 , -1228.9247 ,  -793.1292 ,\n",
       "        3332.038  ,  7772.152  , 13650.359  , 16325.144  , 17989.902  ,\n",
       "       20027.887  , 22964.855  , 22652.389  , 22050.098  , 20895.127  ,\n",
       "       23433.951  , 27720.387  , 29526.184  , 18595.99   , 17582.28   ,\n",
       "       17890.035  , 12907.636  ,  6336.9663 ,  1661.7241 , -1284.3585 ,\n",
       "         164.60187,  3741.334  ,  9977.62   , 18190.604  , 15366.6875 ,\n",
       "       15824.843  , 19832.855  , 21400.688  , 21252.54   , 20076.172  ,\n",
       "       20287.684  , 22898.75   , 27728.668  , 28376.508  , 20965.494  ,\n",
       "       20490.889  , 19671.475  , 12795.625  ,  4967.8037 ,  1403.5447 ,\n",
       "        -650.7405 ,   579.4784 ,  4682.238  , 16939.041  , 25031.463  ,\n",
       "       15255.266  , 16851.033  , 14703.49   , 15015.29   , 14023.178  ,\n",
       "       12644.013  , 12250.191  , 14433.186  , 20595.217  , 28371.697  ,\n",
       "       19765.275  , 14214.663  , 15121.77   , 13504.403  ,  4224.7554 ,\n",
       "        1305.5775 ,  -877.08813,   -67.15214,  3545.7585 , 10885.728  ,\n",
       "       20451.451  , 16777.879  , 15714.177  , 13212.065  , 14043.1    ,\n",
       "       14361.026  , 12873.316  , 13073.009  , 15045.046  , 21221.592  ,\n",
       "       27577.52   , 20342.215  , 13216.18   , 14959.032  , 14276.935  ,\n",
       "        3297.5032 ,  1252.1924 ,  -700.63745,  -305.24335,  3088.0732 ,\n",
       "       10291.683  , 20035.465  , 17707.176  , 14945.694  , 12962.438  ,\n",
       "       14208.497  , 14596.13   , 12860.858  , 13108.34   , 15645.009  ],\n",
       "      dtype=float32)"
      ]
     },
     "execution_count": 84,
     "metadata": {},
     "output_type": "execute_result"
    }
   ],
   "source": [
    "# test_X的預測數值，恢復一般數值, inv_yhat\n",
    "inv_yhat = np.concatenate((yhat, test_X[:, -6:]), axis=1)\n",
    "inv_yhat = scaler.inverse_transform(inv_yhat)\n",
    "inv_yhat = inv_yhat[:,0]\n",
    "inv_yhat[0:300]"
   ]
  },
  {
   "cell_type": "code",
   "execution_count": 85,
   "metadata": {},
   "outputs": [
    {
     "data": {
      "text/plain": [
       "array([1.4738000e+04, 1.5465000e+04, 1.5333000e+04, 1.4724999e+04,\n",
       "       1.4736000e+04, 1.6417000e+04, 2.4167002e+04, 3.0658000e+04,\n",
       "       2.1224000e+04, 1.5114000e+04, 1.4482000e+04, 1.4090000e+04,\n",
       "       4.7370000e+03, 1.4200000e+03, 1.7000000e+01, 2.0000000e+00,\n",
       "       4.0010002e+03, 1.2616000e+04, 2.4308002e+04, 1.5862000e+04,\n",
       "       1.2332000e+04, 1.2355000e+04, 1.3832999e+04, 1.3736000e+04,\n",
       "       1.3352000e+04, 1.3873999e+04, 1.5671000e+04, 2.4248000e+04,\n",
       "       3.0386000e+04, 2.0576000e+04, 1.4436000e+04, 1.4800000e+04,\n",
       "       1.3966000e+04, 4.1800000e+03, 2.0840000e+03, 3.7000000e+01,\n",
       "       2.0000000e+00, 4.1530000e+03, 1.3070000e+04, 2.4313002e+04,\n",
       "       1.6182001e+04, 1.3358000e+04, 1.3284000e+04, 1.5073000e+04,\n",
       "       1.6120000e+04, 1.5607000e+04, 1.6376000e+04, 1.9202000e+04,\n",
       "       3.0676000e+04, 3.7074000e+04, 2.6860000e+04, 1.9412000e+04,\n",
       "       1.9186000e+04, 1.9677000e+04, 6.5080000e+03, 2.2570000e+03,\n",
       "       2.2000000e+01, 2.0000000e+00, 3.7340000e+03, 7.5130005e+03,\n",
       "       1.4169000e+04, 1.5618000e+04, 1.6986000e+04, 1.9429000e+04,\n",
       "       2.1694000e+04, 2.2881000e+04, 2.0472000e+04, 2.0824000e+04,\n",
       "       2.3234002e+04, 2.8180000e+04, 2.4754002e+04, 1.7114000e+04,\n",
       "       1.6001000e+04, 1.7414000e+04, 1.7293000e+04, 6.1080000e+03,\n",
       "       1.9490000e+03, 2.3000002e+01, 2.0000000e+00, 2.6000000e+03,\n",
       "       4.9100000e+03, 1.0385000e+04, 1.1642000e+04, 1.3426000e+04,\n",
       "       1.6383000e+04, 1.8215000e+04, 1.9810000e+04, 1.9854000e+04,\n",
       "       1.9754000e+04, 2.1734000e+04, 2.6114000e+04, 2.3602000e+04,\n",
       "       1.8701000e+04, 1.8169000e+04, 1.6690000e+04, 1.2873001e+04,\n",
       "       5.3000000e+03, 1.2410000e+03, 2.2000000e+01, 4.0000000e+00,\n",
       "       4.7520000e+03, 1.3674001e+04, 2.5835000e+04, 1.6321999e+04,\n",
       "       1.2603999e+04, 1.2689000e+04, 1.3826000e+04, 1.3800000e+04,\n",
       "       1.3237001e+04, 1.3429000e+04, 1.5114000e+04, 2.2847002e+04,\n",
       "       2.8856000e+04, 1.8951000e+04, 1.3661000e+04, 1.3248000e+04,\n",
       "       1.3391000e+04, 4.2760000e+03, 1.1500000e+03, 2.1000000e+01,\n",
       "       6.0000000e+00, 4.0250002e+03, 1.2917999e+04, 2.3879000e+04,\n",
       "       1.6545000e+04, 1.1669000e+04, 1.2013001e+04, 1.3147000e+04,\n",
       "       1.3510001e+04, 1.3061000e+04, 1.3066000e+04, 1.5472001e+04,\n",
       "       2.3018000e+04, 2.9353000e+04, 1.8888000e+04, 1.3754000e+04,\n",
       "       1.3995000e+04, 1.3518999e+04, 4.0460000e+03, 1.2140000e+03,\n",
       "       1.5000000e+01, 2.0000000e+00, 4.1560000e+03, 1.2949999e+04,\n",
       "       2.4546000e+04, 1.5254000e+04, 1.1764000e+04, 1.2153000e+04,\n",
       "       1.3339000e+04, 1.3509000e+04, 1.3049000e+04, 1.3759999e+04,\n",
       "       1.5616999e+04, 2.3910998e+04, 2.9695000e+04, 1.9514000e+04,\n",
       "       1.3914000e+04, 1.4755000e+04, 1.3877000e+04, 4.0870000e+03,\n",
       "       1.3840000e+03, 2.1000000e+01, 2.0000000e+00, 4.1420000e+03,\n",
       "       1.2987001e+04, 2.4469000e+04, 1.5637000e+04, 1.2319000e+04,\n",
       "       1.2174000e+04, 1.3999000e+04, 1.4110000e+04, 1.3726000e+04,\n",
       "       1.4382000e+04, 1.6158000e+04, 2.4702998e+04, 3.0613000e+04,\n",
       "       2.0201000e+04, 1.4970000e+04, 1.5905000e+04, 1.4792999e+04,\n",
       "       4.5950000e+03, 2.4190000e+03, 5.1000000e+01, 2.0000000e+00,\n",
       "       4.0970000e+03, 1.2739000e+04, 2.4258000e+04, 1.6352000e+04,\n",
       "       1.3371000e+04, 1.3727000e+04, 1.6166000e+04, 1.7203000e+04,\n",
       "       1.6622000e+04, 1.7108000e+04, 2.0771000e+04, 3.2538000e+04,\n",
       "       3.9076000e+04, 2.6927000e+04, 2.0211000e+04, 2.0708000e+04,\n",
       "       2.0702000e+04, 8.1030000e+03, 2.2020000e+03, 2.8000000e+01,\n",
       "       0.0000000e+00, 3.8119998e+03, 7.7870000e+03, 1.4536000e+04,\n",
       "       1.7183000e+04, 1.8881000e+04, 2.1842000e+04, 2.2923000e+04,\n",
       "       2.4251000e+04, 2.3555000e+04, 2.4004000e+04, 2.5558998e+04,\n",
       "       3.0946000e+04, 2.6719000e+04, 1.9904000e+04, 1.7798000e+04,\n",
       "       1.8771000e+04, 1.7920000e+04, 6.8610000e+03, 1.6960000e+03,\n",
       "       2.0000000e+01, 8.0000000e+00, 3.1290000e+03, 6.4440000e+03,\n",
       "       1.2160000e+04, 1.4168000e+04, 1.7400000e+04, 1.9882000e+04,\n",
       "       2.1153000e+04, 2.1630000e+04, 2.2047000e+04, 2.3659000e+04,\n",
       "       2.6176000e+04, 2.9811000e+04, 2.6671000e+04, 2.2035000e+04,\n",
       "       2.0174000e+04, 1.9529000e+04, 1.4578999e+04, 6.6890005e+03,\n",
       "       1.4090000e+03, 2.7000002e+01, 8.0000000e+00, 5.1670000e+03,\n",
       "       1.3786000e+04, 2.6516000e+04, 1.7021000e+04, 1.4208000e+04,\n",
       "       1.4522000e+04, 1.5241000e+04, 1.5527000e+04, 1.4897000e+04,\n",
       "       1.5037000e+04, 1.6688000e+04, 2.4350000e+04, 2.9536000e+04,\n",
       "       2.0300000e+04, 1.4851000e+04, 1.4829000e+04, 1.3422999e+04,\n",
       "       4.3170000e+03, 1.2680000e+03, 2.0000000e+01, 2.0000000e+00,\n",
       "       4.0540000e+03, 1.2998000e+04, 2.5345000e+04, 1.6930000e+04,\n",
       "       1.3178001e+04, 1.3036000e+04, 1.4424000e+04, 1.5081000e+04,\n",
       "       1.4606000e+04, 1.4433000e+04, 1.6552000e+04, 2.3720000e+04,\n",
       "       2.9910000e+04, 1.9791000e+04, 1.4908000e+04, 1.4728000e+04,\n",
       "       1.2726000e+04, 4.0450000e+03, 1.4830000e+03, 2.4000000e+01,\n",
       "       2.0000000e+00, 4.1670000e+03, 1.2822000e+04, 2.5200002e+04,\n",
       "       1.5885000e+04, 1.2455000e+04, 1.2972000e+04, 1.4663000e+04,\n",
       "       1.4938000e+04, 1.4565000e+04, 1.4768000e+04, 1.7088000e+04],\n",
       "      dtype=float32)"
      ]
     },
     "execution_count": 85,
     "metadata": {},
     "output_type": "execute_result"
    }
   ],
   "source": [
    "# test_y, 恢復一般數值，inv_y\n",
    "test_y = test_y.reshape((len(test_y), 1))\n",
    "inv_y = np.concatenate((test_y, test_X[:, -6:]), axis=1)\n",
    "inv_y = scaler.inverse_transform(inv_y)\n",
    "inv_y = inv_y[:,0]\n",
    "inv_y[0:300]"
   ]
  },
  {
   "cell_type": "code",
   "execution_count": 86,
   "metadata": {},
   "outputs": [
    {
     "name": "stdout",
     "output_type": "stream",
     "text": [
      "Test RMSE: 2377.167\n"
     ]
    }
   ],
   "source": [
    "# 計算 RMSE\n",
    "rmse = sqrt(mean_squared_error(inv_y, inv_yhat))\n",
    "print('Test RMSE: %.3f' % rmse)"
   ]
  },
  {
   "cell_type": "code",
   "execution_count": 87,
   "metadata": {},
   "outputs": [
    {
     "name": "stderr",
     "output_type": "stream",
     "text": [
      "C:\\Users\\ching\\anaconda3\\envs\\ML_\\lib\\site-packages\\matplotlib\\backends\\backend_agg.py:214: RuntimeWarning: Glyph 65293 missing from current font.\n",
      "  font.set_text(s, 0.0, flags=flags)\n",
      "C:\\Users\\ching\\anaconda3\\envs\\ML_\\lib\\site-packages\\matplotlib\\backends\\backend_agg.py:183: RuntimeWarning: Glyph 65293 missing from current font.\n",
      "  font.set_text(s, 0, flags=flags)\n"
     ]
    },
    {
     "data": {
      "image/png": "[encoded data removed]",
      "text/plain": [
       "<Figure size 2160x432 with 1 Axes>"
      ]
     },
     "metadata": {
      "needs_background": "light"
     },
     "output_type": "display_data"
    }
   ],
   "source": [
    "# inv_y與inv_yhat畫圖\n",
    "# plot baseline and predictions\n",
    "plt.figure(figsize=(30,6))\n",
    "plt.plot(inv_y[0:300], label='test',color = 'blue') #實際人流\n",
    "plt.plot(inv_yhat[0:300], label='pred', color = 'red') #預測人流\n",
    "plt.title('testSet－loss:mae; optimizer:adam; Dense:1; nn:60; n_hours: 21 ; epochs: 30 ; RMSE:2377.167')\n",
    "plt.legend()\n",
    "plt.show()"
   ]
  },
  {
   "cell_type": "code",
   "execution_count": 88,
   "metadata": {},
   "outputs": [
    {
     "data": {
      "text/plain": [
       "-8085442.176172495"
      ]
     },
     "execution_count": 88,
     "metadata": {},
     "output_type": "execute_result"
    }
   ],
   "source": [
    "sum(inv_yhat-inv_y)"
   ]
  }
 ],
 "metadata": {
  "kernelspec": {
   "display_name": "Python 3",
   "language": "python",
   "name": "python3"
  },
  "language_info": {
   "codemirror_mode": {
    "name": "ipython",
    "version": 3
   },
   "file_extension": ".py",
   "mimetype": "text/x-python",
   "name": "python",
   "nbconvert_exporter": "python",
   "pygments_lexer": "ipython3",
   "version": "3.7.7"
  }
 },
 "nbformat": 4,
 "nbformat_minor": 4
}
